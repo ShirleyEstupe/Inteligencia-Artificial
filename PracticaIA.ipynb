{
 "cells": [
  {
   "cell_type": "markdown",
   "id": "537c40d2-56b6-469e-a821-f7b4be78a3a4",
   "metadata": {
    "editable": true,
    "slideshow": {
     "slide_type": ""
    },
    "tags": []
   },
   "source": [
    "EJERCIO 1 CALCULO DE IVA"
   ]
  },
  {
   "cell_type": "code",
   "execution_count": 3,
   "id": "2f21c973-c28d-420a-9332-d2b566b7bea4",
   "metadata": {},
   "outputs": [
    {
     "name": "stdout",
     "output_type": "stream",
     "text": [
      "Importe del IVA: 12.0 €\n",
      "Precio final con IVA: 112.0 €\n"
     ]
    }
   ],
   "source": [
    "precio = 100  \n",
    "iva = precio * 0.12  \n",
    "precio_final = precio + iva  \n",
    "\n",
    "print(\"Importe del IVA:\", iva, \"€\")\n",
    "print(\"Precio final con IVA:\", precio_final, \"€\")"
   ]
  },
  {
   "cell_type": "markdown",
   "id": "a68d6b4e-c9b6-4770-803b-8f599f61d1ae",
   "metadata": {
    "editable": true,
    "slideshow": {
     "slide_type": ""
    },
    "tags": []
   },
   "source": [
    "EJERCICIO 2 VARIABLES 0 Y 10"
   ]
  },
  {
   "cell_type": "code",
   "execution_count": 6,
   "id": "b582df2d-be0a-4e39-9104-e0b6e84976c2",
   "metadata": {
    "editable": true,
    "slideshow": {
     "slide_type": ""
    },
    "tags": []
   },
   "outputs": [
    {
     "name": "stdout",
     "output_type": "stream",
     "text": [
      "El número está entre 0 y 10.\n"
     ]
    }
   ],
   "source": [
    "numero = 7 \n",
    "if 0 <= numero <= 10:\n",
    "    print(\"El número está entre 0 y 10.\")"
   ]
  },
  {
   "cell_type": "markdown",
   "id": "5bfdfe78-2341-4fad-b6c0-2d9299509a62",
   "metadata": {
    "editable": true,
    "slideshow": {
     "slide_type": ""
    },
    "tags": []
   },
   "source": [
    "EJERCICIO 3 VARIABLES COMPLEMENTO"
   ]
  },
  {
   "cell_type": "code",
   "execution_count": 9,
   "id": "c885e87e-dd00-47c8-986c-520e68db0cd5",
   "metadata": {
    "editable": true,
    "slideshow": {
     "slide_type": ""
    },
    "tags": []
   },
   "outputs": [
    {
     "name": "stdout",
     "output_type": "stream",
     "text": [
      "El número está entre 11 y 20.\n"
     ]
    }
   ],
   "source": [
    "numero = 11\n",
    "if 0 <= numero <= 10:\n",
    "    print(\"El número está entre 0 y 10.\")\n",
    "elif 11 <= numero <= 20:\n",
    "    print(\"El número está entre 11 y 20.\")\n",
    "elif 21 <= numero <= 30:\n",
    "    print(\"El número está entre 21 y 30.\")"
   ]
  },
  {
   "cell_type": "markdown",
   "id": "19d4b2df-6b10-4158-846b-eccc4c303dbb",
   "metadata": {
    "editable": true,
    "slideshow": {
     "slide_type": ""
    },
    "tags": []
   },
   "source": [
    "EJERCICIO 4 WHILE PARA MOSTRAR NUMEROS DEL 1 AL 100"
   ]
  },
  {
   "cell_type": "code",
   "execution_count": 12,
   "id": "0f2e6572-c12e-4543-a324-bdd8aef55ef3",
   "metadata": {
    "editable": true,
    "slideshow": {
     "slide_type": ""
    },
    "tags": []
   },
   "outputs": [
    {
     "name": "stdout",
     "output_type": "stream",
     "text": [
      "1\n",
      "2\n",
      "3\n",
      "4\n",
      "5\n",
      "6\n",
      "7\n",
      "8\n",
      "9\n",
      "10\n",
      "11\n",
      "12\n",
      "13\n",
      "14\n",
      "15\n",
      "16\n",
      "17\n",
      "18\n",
      "19\n",
      "20\n",
      "21\n",
      "22\n",
      "23\n",
      "24\n",
      "25\n",
      "26\n",
      "27\n",
      "28\n",
      "29\n",
      "30\n",
      "31\n",
      "32\n",
      "33\n",
      "34\n",
      "35\n",
      "36\n",
      "37\n",
      "38\n",
      "39\n",
      "40\n",
      "41\n",
      "42\n",
      "43\n",
      "44\n",
      "45\n",
      "46\n",
      "47\n",
      "48\n",
      "49\n",
      "50\n",
      "51\n",
      "52\n",
      "53\n",
      "54\n",
      "55\n",
      "56\n",
      "57\n",
      "58\n",
      "59\n",
      "60\n",
      "61\n",
      "62\n",
      "63\n",
      "64\n",
      "65\n",
      "66\n",
      "67\n",
      "68\n",
      "69\n",
      "70\n",
      "71\n",
      "72\n",
      "73\n",
      "74\n",
      "75\n",
      "76\n",
      "77\n",
      "78\n",
      "79\n",
      "80\n",
      "81\n",
      "82\n",
      "83\n",
      "84\n",
      "85\n",
      "86\n",
      "87\n",
      "88\n",
      "89\n",
      "90\n",
      "91\n",
      "92\n",
      "93\n",
      "94\n",
      "95\n",
      "96\n",
      "97\n",
      "98\n",
      "99\n",
      "100\n"
     ]
    }
   ],
   "source": [
    "numero = 1\n",
    "while numero <= 100:\n",
    "    print(numero)\n",
    "    numero += 1"
   ]
  },
  {
   "cell_type": "markdown",
   "id": "35e4bd6a-9ce9-460d-b4f2-642190327e00",
   "metadata": {
    "editable": true,
    "slideshow": {
     "slide_type": ""
    },
    "tags": []
   },
   "source": [
    "EJERCICIO 5 FOR PARA MOSTRAR NUMEROS DEL 1 AL 100"
   ]
  },
  {
   "cell_type": "code",
   "execution_count": null,
   "id": "fd5f28d4-4a68-4219-b3df-0e9e3fd1a2c4",
   "metadata": {
    "editable": true,
    "slideshow": {
     "slide_type": ""
    },
    "tags": []
   },
   "outputs": [],
   "source": []
  }
 ],
 "metadata": {
  "kernelspec": {
   "display_name": "Python [conda env:base] *",
   "language": "python",
   "name": "conda-base-py"
  },
  "language_info": {
   "codemirror_mode": {
    "name": "ipython",
    "version": 3
   },
   "file_extension": ".py",
   "mimetype": "text/x-python",
   "name": "python",
   "nbconvert_exporter": "python",
   "pygments_lexer": "ipython3",
   "version": "3.12.7"
  }
 },
 "nbformat": 4,
 "nbformat_minor": 5
}
