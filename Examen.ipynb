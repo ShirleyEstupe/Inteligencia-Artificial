{
 "cells": [
  {
   "cell_type": "markdown",
   "id": "57fbfd43-3adc-4f25-a45b-d0c961b9b45a",
   "metadata": {},
   "source": [
    "Edades"
   ]
  },
  {
   "cell_type": "code",
   "execution_count": null,
   "id": "05e85d38-1cff-48ec-afc0-c21f4db0012c",
   "metadata": {},
   "outputs": [],
   "source": [
    "edad = 0 < 18\n",
    "print (\"Eres mayor de edad\")\n",
    "print (\"No eres mayor de edad\")\n",
    "\n"
   ]
  }
 ],
 "metadata": {
  "kernelspec": {
   "display_name": "Python [conda env:base] *",
   "language": "python",
   "name": "conda-base-py"
  },
  "language_info": {
   "codemirror_mode": {
    "name": "ipython",
    "version": 3
   },
   "file_extension": ".py",
   "mimetype": "text/x-python",
   "name": "python",
   "nbconvert_exporter": "python",
   "pygments_lexer": "ipython3",
   "version": "3.12.7"
  }
 },
 "nbformat": 4,
 "nbformat_minor": 5
}
