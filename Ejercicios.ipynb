{
 "cells": [
  {
   "cell_type": "code",
   "execution_count": 3,
   "id": "eb6827e1-b727-44d7-99d7-207e158ca091",
   "metadata": {},
   "outputs": [
    {
     "name": "stdout",
     "output_type": "stream",
     "text": [
      "Importe del IVA: 21.0 €\n",
      "Precio final con IVA: 121.0 €\n"
     ]
    }
   ],
   "source": [
    "precio = 100  \n",
    "iva = precio * 0.21  \n",
    "precio_final = precio + iva  \n",
    "\n",
    "print(\"Importe del IVA:\", iva, \"€\")\n",
    "print(\"Precio final con IVA:\", precio_final, \"€\")\n"
   ]
  },
  {
   "cell_type": "code",
   "execution_count": null,
   "id": "75dc8036-7702-4625-8080-400286c82970",
   "metadata": {},
   "outputs": [],
   "source": []
  },
  {
   "cell_type": "code",
   "execution_count": 15,
   "id": "cb89b9cd-7097-457b-b848-f637a6aa57c2",
   "metadata": {},
   "outputs": [
    {
     "name": "stdout",
     "output_type": "stream",
     "text": [
      "El número está entre 0 y 10.\n"
     ]
    }
   ],
   "source": [
    "\n",
    "numero = 7  # Puedes cambiar este valor\n",
    "if 0 <= numero <= 10:\n",
    "    print(\"El número está entre 0 y 10.\")"
   ]
  },
  {
   "cell_type": "code",
   "execution_count": null,
   "id": "372f4dd1-1ff2-4c81-8421-0cc5d04256a9",
   "metadata": {},
   "outputs": [],
   "source": []
  },
  {
   "cell_type": "code",
   "execution_count": 17,
   "id": "311a7276-05b6-4205-a66f-bf15ba414d10",
   "metadata": {},
   "outputs": [
    {
     "name": "stdout",
     "output_type": "stream",
     "text": [
      "El número está entre 11 y 20.\n"
     ]
    }
   ],
   "source": [
    "\n",
    "numero = 11  # Puedes cambiar este valor\n",
    "\n",
    "# Verificar en qué rango se encuentra el número\n",
    "if 0 <= numero <= 10:\n",
    "    print(\"El número está entre 0 y 10.\")\n",
    "elif 11 <= numero <= 20:\n",
    "    print(\"El número está entre 11 y 20.\")\n",
    "elif 21 <= numero <= 30:\n",
    "    print(\"El número está entre 21 y 30.\")"
   ]
  },
  {
   "cell_type": "code",
   "execution_count": null,
   "id": "a2ad8042-b391-4347-9bd7-dd6425936175",
   "metadata": {},
   "outputs": [],
   "source": []
  },
  {
   "cell_type": "code",
   "execution_count": null,
   "id": "481ccc85-67ee-463d-bf34-aad436d7cc21",
   "metadata": {},
   "outputs": [],
   "source": [
    "# Mostrar los números del 1 al 100 usando while\n",
    "numero = 1\n",
    "while numero <= 100:\n",
    "    print(numero)\n",
    "    numero += 1"
   ]
  }
 ],
 "metadata": {
  "kernelspec": {
   "display_name": "Python [conda env:base] *",
   "language": "python",
   "name": "conda-base-py"
  },
  "language_info": {
   "codemirror_mode": {
    "name": "ipython",
    "version": 3
   },
   "file_extension": ".py",
   "mimetype": "text/x-python",
   "name": "python",
   "nbconvert_exporter": "python",
   "pygments_lexer": "ipython3",
   "version": "3.12.7"
  }
 },
 "nbformat": 4,
 "nbformat_minor": 5
}
